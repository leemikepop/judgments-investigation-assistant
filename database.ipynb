{
 "cells": [
  {
   "cell_type": "code",
   "execution_count": 1,
   "metadata": {},
   "outputs": [
    {
     "name": "stdout",
     "output_type": "stream",
     "text": [
      "Collecting mysql-connector-python\n",
      "  Downloading mysql_connector_python-8.4.0-cp310-cp310-manylinux_2_17_x86_64.whl.metadata (2.0 kB)\n",
      "Downloading mysql_connector_python-8.4.0-cp310-cp310-manylinux_2_17_x86_64.whl (19.4 MB)\n",
      "\u001b[2K   \u001b[90m━━━━━━━━━━━━━━━━━━━━━━━━━━━━━━━━━━━━━━━━\u001b[0m \u001b[32m19.4/19.4 MB\u001b[0m \u001b[31m1.1 MB/s\u001b[0m eta \u001b[36m0:00:00\u001b[0m00:01\u001b[0m00:01\u001b[0m\n",
      "\u001b[?25hInstalling collected packages: mysql-connector-python\n",
      "Successfully installed mysql-connector-python-8.4.0\n",
      "Note: you may need to restart the kernel to use updated packages.\n"
     ]
    }
   ],
   "source": [
    "%pip install mysql-connector-python"
   ]
  },
  {
   "cell_type": "code",
   "execution_count": 9,
   "metadata": {},
   "outputs": [],
   "source": [
    "import mysql.connector\n",
    "\n",
    "class MariaDBURID:\n",
    "    def __init__(self, host, port, user, password, database):\n",
    "        self.connection = mysql.connector.connect(\n",
    "            host=host,\n",
    "            port=port,\n",
    "            user=user,\n",
    "            password=password,\n",
    "            database=database\n",
    "        )\n",
    "        self.cursor = self.connection.cursor()\n",
    "\n",
    "    def get_database_list(self):\n",
    "        self.cursor.execute(\"SHOW DATABASES\")\n",
    "        database_list = [row[0] for row in self.cursor.fetchall()]\n",
    "        return database_list\n",
    "\n",
    "    def get_table_list(self, database):\n",
    "        self.cursor.execute(f\"SHOW TABLES FROM {database}\")\n",
    "        table_list = [row[0] for row in self.cursor.fetchall()]\n",
    "        return table_list\n",
    "\n",
    "    def get_table_schema(self, database, table):\n",
    "        self.cursor.execute(f\"DESCRIBE {database}.{table}\")\n",
    "        table_schema = self.cursor.fetchall()\n",
    "        return table_schema\n",
    "\n",
    "    def get_user_list(self):\n",
    "        self.cursor.execute(\"SELECT user FROM mysql.user\")\n",
    "        user_list = [row[0] for row in self.cursor.fetchall()]\n",
    "        return user_list\n",
    "\n",
    "    def execute_query(self, query):\n",
    "        self.cursor.execute(query)\n",
    "        result = self.cursor.fetchall()\n",
    "        return result\n",
    "\n",
    "    def insert_data(self, table, columns, values):\n",
    "        columns_str = ', '.join(columns)\n",
    "        values_str = ', '.join([\"%s\"] * len(values))\n",
    "        query = f\"INSERT INTO {table} ({columns_str}) VALUES ({values_str})\"\n",
    "        self.cursor.execute(query, values)\n",
    "        self.connection.commit()\n",
    "\n",
    "    def insert_data_ignore_duplicates(self, table, columns, values):\n",
    "        columns_str = ', '.join(columns)\n",
    "        values_str = ', '.join([\"%s\"] * len(values))\n",
    "        query = f\"INSERT IGNORE INTO {table} ({columns_str}) VALUES ({values_str})\"\n",
    "        self.cursor.execute(query, values)\n",
    "        self.connection.commit()\n",
    "\n",
    "    def insert_data_with_conditions(self, table, columns, values, cond, cond_values):\n",
    "        columns_str = ', '.join(columns)\n",
    "        values_str = ', '.join([\"%s\"] * len(values))\n",
    "        query = f\"INSERT INTO {table} ({columns_str}) SELECT {values_str} WHERE {cond}\"\n",
    "        self.cursor.execute(query, values + cond_values)\n",
    "        self.connection.commit()\n",
    "\n",
    "    def update_data(self, table, columns, values, condition):\n",
    "        columns_str = ', '.join([f\"{col} = %s\" for col in columns])\n",
    "        query = f\"UPDATE {table} SET {columns_str} WHERE {condition}\"\n",
    "        self.cursor.execute(query, values)\n",
    "        self.connection.commit()\n",
    "\n",
    "    def insert_data_on_duplicate_key_update(self, table, columns, values, update_columns, update_values, cond):\n",
    "        columns_str = ', '.join(columns)\n",
    "        values_str = ', '.join([\"%s\"] * len(values))\n",
    "        update_str = ', '.join([f\"{column} = %s\" for column in update_columns])\n",
    "        query = f\"INSERT INTO {table} ({columns_str}) VALUES ({values_str}) ON DUPLICATE KEY UPDATE {update_str} {cond}\"\n",
    "        self.cursor.execute(query, values + update_values)\n",
    "        self.connection.commit()\n",
    "\n",
    "    def delete_data(self, table, condition):\n",
    "        query = f\"DELETE FROM {table} WHERE {condition}\"\n",
    "        self.cursor.execute(query)\n",
    "        self.connection.commit()\n",
    "\n",
    "    def close_connection(self):\n",
    "        self.cursor.close()\n",
    "        self.connection.close()"
   ]
  },
  {
   "cell_type": "code",
   "execution_count": 10,
   "metadata": {},
   "outputs": [],
   "source": [
    "# 建立 MariaDBURID 對象\n",
    "# db = MariaDBURID(host='localhost', port=3306, user='developer', password='password', database='JudgmentsDB')\n",
    "db = MariaDBURID(host='3.115.42.166', port=3306, user='tstudent02', password='Scsb@2024', database='tstudent02db')"
   ]
  },
  {
   "cell_type": "code",
   "execution_count": 4,
   "metadata": {},
   "outputs": [
    {
     "name": "stdout",
     "output_type": "stream",
     "text": [
      "(4012, 10)\n"
     ]
    }
   ],
   "source": [
    "import pandas as pd\n",
    "df = pd.read_csv('demo/dataset2_no_JFULL.csv')\n",
    "print(df.shape)"
   ]
  },
  {
   "cell_type": "code",
   "execution_count": 6,
   "metadata": {},
   "outputs": [],
   "source": [
    "for cols,row in df.iterrows():\n",
    "    if isinstance(row['JID'], str) and row['JID'].strip():\n",
    "        db.insert_data_ignore_duplicates('Judgments'\n",
    "                                     , columns=['JID', 'JTITLE', 'JCHAR', 'JTYPE', 'JDATE', 'JURL', 'JDESP']\n",
    "                                     , values=[row['JID']\n",
    "                                               , row['JTITLE'] if isinstance(row['JTITLE'], str) else None\n",
    "                                               , row['JCHAR'] if isinstance(row['JCHAR'], str) else None\n",
    "                                               , row['JTYPE'] if isinstance(row['JTYPE'], str) else None\n",
    "                                               , row['JDATE'] if isinstance(row['JDATE'], str) else None\n",
    "                                               , row['JURL'] if isinstance(row['JDATE'], str) else None\n",
    "                                               , row['JSUMMARY'] if isinstance(row['JDATE'], str) else None\n",
    "                                               ])\n",
    "    if isinstance(row['JOBJECT'], str) and row['JOBJECT'].strip():\n",
    "        db.insert_data_with_conditions('Searchable'\n",
    "                                     , columns=['JID', 'JSUBJECT']\n",
    "                                     , values=[row['JID'], row['JOBJECT']]\n",
    "                                     , cond=f\"NOT EXISTS (SELECT 1 FROM Searchable WHERE JID = %s AND JSUBJECT = %s);\"\n",
    "                                     , cond_values=[row['JID'], row['JOBJECT']])\n",
    "        "
   ]
  },
  {
   "cell_type": "code",
   "execution_count": 12,
   "metadata": {},
   "outputs": [
    {
     "name": "stdout",
     "output_type": "stream",
     "text": [
      "[(1, 'TPSV,112,台上,2737,20240530,1', '長鴻營造', None, None, None), (2, 'TPHV,112,建上更一,7,20240326,1', '長鴻營造', None, None, None), (3, 'TPHV,112,上,646,20240123,1', '長鴻營造', None, None, None), (4, 'TPHV,109,建上,98,20240123,3', '長鴻營造', None, None, None), (5, 'TPDM,111,金重訴緝,1,20240118,3', '長鴻營造', None, None, None), (6, 'KSDV,106,建,34,20231226,2', '長鴻營造', None, None, None), (7, 'KSHV,111,建上更一,6,20231213,3', '長鴻營造', None, None, None), (8, 'TPHV,112,重上,474,20231128,1', '長鴻營造', None, None, None), (9, 'TPDV,112,國,30,20231121,1', '長鴻營造', None, None, None), (10, 'TPSV,112,台上,1876,20230913,1', '長鴻營造', None, None, None), (11, 'TPHV,111,建上,43,20230830,1', '長鴻營造', None, None, None), (12, 'KSDV,108,建,92,20230829,1', '長鴻營造', None, None, None), (13, 'CTDV,112,簡上,25,20230531,1', '長鴻營造', None, None, None), (14, 'TPHV,110,重上,618,20230502,2', '長鴻營造', None, None, None), (15, 'TPSV,112,台上,61,20230426,1', '長鴻營造', None, None, None), (16, 'PCDV,111,重訴,693,20230331,1', '長鴻營造', None, None, None), (17, 'TPHV,110,重上,249,20230328,1', '長鴻營造', None, None, None), (18, 'TYDV,110,訴,1470,20230327,1', '長鴻營造', None, None, None), (19, 'KSDV,107,重訴,263,20230325,1', '長鴻營造', None, None, None), (20, 'TPAA,109,上,214,20230105,1', '長鴻營造', None, None, None), (21, 'TPDV,110,建,267,20221230,1', '長鴻營造', None, None, None), (22, 'KSHV,111,重上,4,20221228,2', '長鴻營造', None, None, None), (23, 'KSHV,111,重上,4,20221228,3', '長鴻營造', None, None, None), (24, 'CTDV,107,簡上,82,20220930,1', '長鴻營造', None, None, None), (25, 'TPHV,110,建上,38,20220726,1', '長鴻營造', None, None, None), (26, 'TPHV,110,建上更一,7,20220705,2', '長鴻營造', None, None, None), (27, 'TPDV,110,建,203,20220630,1', '長鴻營造', None, None, None), (28, 'TPSV,111,台上,1061,20220518,1', '長鴻營造', None, None, None), (29, 'TPHV,106,建上,9,20220511,1', '長鴻營造', None, None, None), (30, 'KSDV,105,重訴,104,20220429,4', '長鴻營造', None, None, None), (31, 'TPDV,108,建,323,20220330,1', '長鴻營造', None, None, None), (32, 'KSHV,106,建上,32,20220316,2', '長鴻營造', None, None, None), (33, 'KSHV,107,建上,19,20220126,3', '長鴻營造', None, None, None), (34, 'TPDV,107,建,335,20211229,2', '長鴻營造', None, None, None), (35, 'TPDV,108,建,135,20211217,1', '長鴻營造', None, None, None), (36, 'KSHV,109,建上,25,20211124,2', '長鴻營造', None, None, None), (37, 'KSHV,108,重上,90,20211110,3', '長鴻營造', None, None, None), (38, 'TPSV,110,台上,2491,20211013,1', '長鴻營造', None, None, None), (39, 'TPSM,109,台上,3693,20210915,1', '長鴻營造', None, None, None), (40, 'TPHV,110,建上,8,20210907,1', '長鴻營造', None, None, None), (41, 'TPHV,110,重上,108,20210817,1', '長鴻營造', None, None, None), (42, 'KSHV,109,建上易,3,20210727,1', '長鴻營造', None, None, None), (43, 'TPDV,107,建,115,20210604,1', '長鴻營造', None, None, None), (44, 'TPHV,108,重上,311,20210525,1', '長鴻營造', None, None, None), (45, 'TPHV,109,建上,90,20210421,1', '長鴻營造', None, None, None), (46, 'TPDV,109,建,275,20210331,1', '長鴻營造', None, None, None), (47, 'PCDV,107,建,128,20210331,1', '長鴻營造', None, None, None), (48, 'TPHV,109,上,243,20210317,1', '長鴻營造', None, None, None), (49, 'KSHV,109,建上更一,13,20210129,1', '長鴻營造', None, None, None), (50, 'SLDV,109,訴,894,20201230,1', '長鴻營造', None, None, None), (51, 'SCDV,109,重訴,91,20201229,1', '長鴻營造', None, None, None), (52, 'TPHV,105,重上,1069,20201222,2', '長鴻營造', None, None, None), (53, 'PCDV,108,建,93,20201211,1', '長鴻營造', None, None, None), (54, 'TPDV,105,建,250,20201130,1', '長鴻營造', None, None, None), (55, 'TPDV,107,建,159,20201120,4', '長鴻營造', None, None, None), (56, 'TPHV,107,重上,942,20201103,1', '長鴻營造', None, None, None), (57, 'TPDV,108,建,23,20201023,2', '長鴻營造', None, None, None), (58, 'TPSV,109,台上,773,20200924,1', '長鴻營造', None, None, None), (59, 'TPDV,109,勞簡,86,20200924,1', '長鴻營造', None, None, None), (60, 'TPHV,108,重上,1011,20200908,1', '長鴻營造', None, None, None), (61, 'TPDV,108,建,56,20200904,1', '長鴻營造', None, None, None), (62, 'TPHV,108,重上,718,20200902,1', '長鴻營造', None, None, None), (63, 'PCDV,108,建,97,20200731,1', '長鴻營造', None, None, None), (64, 'TPDV,109,重訴,27,20200529,1', '長鴻營造', None, None, None), (65, 'KSDV,104,重訴,454,20200529,3', '長鴻營造', None, None, None), (66, 'TPSV,109,台上,801,20200520,1', '長鴻營造', None, None, None), (67, 'KSHM,107,矚上訴,2,20200424,1', '長鴻營造', None, None, None), (68, 'PTDV,105,建,10,20200424,3', '長鴻營造', None, None, None), (69, 'KSDV,108,訴,1214,20200331,1', '長鴻營造', None, None, None), (70, 'KSDV,108,建,48,20200227,2', '長鴻營造', None, None, None), (71, 'TPDV,108,建,281,20191230,1', '長鴻營造', None, None, None), (72, 'TPBA,107,訴,167,20191226,1', '長鴻營造', None, None, None), (73, 'SCDV,108,重國,1,20191108,1', '長鴻營造', None, None, None), (74, 'HLDV,108,建,3,20191107,1', '長鴻營造', None, None, None), (75, 'TPHM,108,上訴,1212,20191031,1', '長鴻營造', None, None, None), (76, 'KSDV,105,重訴,372,20191028,1', '長鴻營造', None, None, None), (77, 'KSDV,105,訴,2160,20191028,1', '長鴻營造', None, None, None), (78, 'TPDV,106,建,103,20191025,2', '長鴻營造', None, None, None), (79, 'TPHV,106,重上,701,20191015,4', '長鴻營造', None, None, None), (80, 'TPSM,108,台上,1736,20191009,1', '長鴻營造', None, None, None), (81, 'PCDV,104,重訴,104,20190910,1', '長鴻營造', None, None, None), (82, 'TPHM,107,金上重更一,1,20190823,4', '長鴻營造', None, None, None), (83, 'TPHV,107,重上,419,20190821,1', '長鴻營造', None, None, None), (84, 'TPHV,105,建上,90,20190820,1', '長鴻營造', None, None, None), (85, 'TPDV,107,建,194,20190718,1', '長鴻營造', None, None, None), (86, 'TPSM,107,台上,2483,20190711,1', '長鴻營造', None, None, None), (87, 'PTDV,106,重訴,134,20190625,1', '長鴻營造', None, None, None), (88, 'TNHM,108,上訴,285,20190619,1', '長鴻營造', None, None, None), (89, 'TPHV,107,建上,8,20190430,1', '長鴻營造', None, None, None), (90, 'TPDM,104,自,86,20190415,1', '長鴻營造', None, None, None), (91, 'TPDV,108,建,6,20190329,1', '長鴻營造', None, None, None), (92, 'TPDV,107,建,246,20190328,2', '長鴻營造', None, None, None), (93, 'TCHV,106,重上國,3,20190227,2', '長鴻營造', None, None, None), (94, 'TPHM,107,重上更三,39,20190227,1', '長鴻營造', None, None, None), (95, 'TPDV,107,建,373,20190125,1', '長鴻營造', None, None, None), (96, 'PCDV,107,建,15,20190124,1', '長鴻營造', None, None, None), (97, 'TPDV,107,訴,4468,20181228,1', '長鴻營造', None, None, None), (98, 'KSDV,107,簡,34,20181228,1', '長鴻營造', None, None, None), (99, 'TPDV,107,訴,1773,20181225,1', '長鴻營造', None, None, None), (100, 'TPHV,107,建上易,9,20181213,1', '長鴻營造', None, None, None), (101, 'KSHV,103,建上,15,20181128,1', '長鴻營造', None, None, None), (102, 'TPSV,107,台上,1784,20181031,1', '長鴻營造', None, None, None), (103, 'TPDV,107,建,330,20181031,1', '長鴻營造', None, None, None), (104, 'ULDM,105,訴,569,20181030,1', '長鴻營造', None, None, None), (105, 'KSDV,104,重訴,50,20180928,2', '長鴻營造', None, None, None), (106, 'TPDV,107,建,75,20180914,1', '長鴻營造', None, None, None), (107, 'KSHV,107,建上,16,20180912,1', '長鴻營造', None, None, None), (108, 'PCDV,107,建,9,20180906,1', '長鴻營造', None, None, None), (109, 'TPHM,104,矚上重訴,19,20180824,1', '長鴻營造', None, None, None), (110, 'TPHV,106,重上,95,20180815,1', '長鴻營造', None, None, None), (111, 'TPDV,107,建,190,20180810,1', '長鴻營造', None, None, None), (112, 'KSDV,105,重訴,422,20180723,1', '長鴻營造', None, None, None), (113, 'TCHM,106,上易,1224,20180712,1', '長鴻營造', None, None, None), (114, 'KSDV,105,訴,1849,20180629,1', '長鴻營造', None, None, None), (115, 'KSDV,105,訴,1850,20180622,1', '長鴻營造', None, None, None), (116, 'KSDV,105,簡,42,20180622,1', '長鴻營造', None, None, None), (117, 'KSDV,105,小,5,20180622,1', '長鴻營造', None, None, None), (118, 'KSDV,106,簡,4,20180622,1', '長鴻營造', None, None, None), (119, 'KSDV,105,訴,1982,20180622,1', '長鴻營造', None, None, None), (120, 'KSDV,106,小,7,20180622,1', '長鴻營造', None, None, None), (121, 'KSDV,106,小,3,20180622,1', '長鴻營造', None, None, None), (122, 'KSDV,106,小,2,20180622,1', '長鴻營造', None, None, None), (123, 'KSDV,105,簡,53,20180622,1', '長鴻營造', None, None, None), (124, 'KSDV,106,訴,39,20180622,1', '長鴻營造', None, None, None), (125, 'KSDV,106,簡,10,20180622,1', '長鴻營造', None, None, None), (126, 'KSDV,105,小,7,20180622,1', '長鴻營造', None, None, None), (127, 'KSDV,105,小,11,20180622,1', '長鴻營造', None, None, None), (128, 'KSDV,106,簡,6,20180622,1', '長鴻營造', None, None, None), (129, 'KSDV,106,簡,5,20180622,1', '長鴻營造', None, None, None), (130, 'KSDV,105,簡,45,20180622,1', '長鴻營造', None, None, None), (131, 'KSDV,105,簡,55,20180622,1', '長鴻營造', None, None, None), (132, 'KSDV,106,小,4,20180622,1', '長鴻營造', None, None, None), (133, 'KSDV,106,小,5,20180622,1', '長鴻營造', None, None, None), (134, 'KSDV,106,重訴,13,20180622,1', '長鴻營造', None, None, None), (135, 'KSDV,105,重訴,63,20180622,1', '長鴻營造', None, None, None), (136, 'KSDV,105,重訴,45,20180622,1', '長鴻營造', None, None, None), (137, 'KSDV,105,重訴,159,20180622,1', '長鴻營造', None, None, None), (138, 'KSDV,105,重訴,159,20180622,6', '長鴻營造', None, None, None), (139, 'KSDV,105,重訴,77,20180622,1', '長鴻營造', None, None, None), (140, 'KSDV,105,重訴,109,20180622,1', '長鴻營造', None, None, None), (141, 'TPHV,104,建上,62,20180613,1', '長鴻營造', None, None, None), (142, 'KSDV,106,建,60,20180601,1', '長鴻營造', None, None, None), (143, 'TPDV,106,建,305,20180529,3', '長鴻營造', None, None, None), (144, 'KSDM,106,訴,472,20180523,1', '長鴻營造', None, None, None), (145, 'KSDM,103,矚訴,3,20180511,3', '長鴻營造', None, None, None), (146, 'TNDV,107,訴,384,20180501,1', '長鴻營造', None, None, None), (147, 'PTDV,106,建,9,20180430,1', '長鴻營造', None, None, None), (148, 'TPDV,105,訴,5374,20180427,2', '長鴻營造', None, None, None), (149, 'TPDV,107,建,68,20180426,2', '長鴻營造', None, None, None), (150, 'TPHM,106,金上重訴,19,20180329,7', '長鴻營造', None, None, None), (151, 'TPHV,104,建上,83,20180328,1', '長鴻營造', None, None, None), (152, 'PCDV,106,建,190,20180312,1', '長鴻營造', None, None, None), (153, 'TPHV,105,建上,60,20180214,1', '長鴻營造', None, None, None), (154, 'TPDV,103,建,32,20180130,1', '長鴻營造', None, None, None), (155, 'TPDV,106,建,310,20180126,1', '長鴻營造', None, None, None), (156, 'TPDV,105,訴,4228,20180117,1', '長鴻營造', None, None, None), (157, 'TPHV,105,重上,82,20171219,1', '長鴻營造', None, None, None), (158, 'PCDV,103,建,183,20171205,1', '長鴻營造', None, None, None), (159, 'KSHM,106,上易,586,20171130,1', '長鴻營造', None, None, None), (160, 'KSHM,106,上易,585,20171130,1', '長鴻營造', None, None, None), (161, 'KSDV,106,建,61,20171128,1', '長鴻營造', None, None, None), (162, 'TCHM,106,重上更(三),2,20171115,1', '長鴻營造', None, None, None), (163, 'TPDV,106,建,326,20171109,1', '長鴻營造', None, None, None), (164, 'SLDV,105,訴,1778,20171109,2', '長鴻營造', None, None, None), (165, 'TPDV,106,建,287,20171108,2', '長鴻營造', None, None, None), (166, 'TPDV,104,建,4,20171019,1', '長鴻營造', None, None, None), (167, 'TPDV,106,建,232,20170919,1', '長鴻營造', None, None, None), (168, 'PCDV,106,訴,435,20170919,2', '長鴻營造', None, None, None), (169, 'TPDV,106,建,135,20170831,1', '長鴻營造', None, None, None), (170, 'TPHM,105,金上重訴,30,20170825,6', '長鴻營造', None, None, None), (171, 'TPDV,105,建,147,20170818,1', '長鴻營造', None, None, None), (172, 'TPDV,106,建,204,20170814,1', '長鴻營造', None, None, None), (173, 'TPDV,106,建,182,20170814,1', '長鴻營造', None, None, None), (174, 'TCDM,105,易,846,20170731,1', '長鴻營造', None, None, None), (175, 'KSDM,106,易,210,20170710,1', '長鴻營造', None, None, None), (176, 'KSDM,105,易,456,20170710,2', '長鴻營造', None, None, None), (177, 'TPDV,106,建,115,20170630,2', '長鴻營造', None, None, None), (178, 'PTDV,105,建,9,20170626,1', '長鴻營造', None, None, None), (179, 'PCDV,106,重訴,106,20170607,1', '長鴻營造', None, None, None), (180, 'PTDV,106,訴,1,20170607,1', '長鴻營造', None, None, None), (181, 'TPDV,104,建,122,20170531,2', '長鴻營造', None, None, None), (182, 'TPDV,106,建,145,20170526,1', '長鴻營造', None, None, None), (183, 'SCDV,104,重訴,134,20170526,1', '長鴻營造', None, None, None), (184, 'TPHV,105,建上,47,20170525,1', '長鴻營造', None, None, None), (185, 'TPDV,106,建,56,20170522,2', '長鴻營造', None, None, None), (186, 'TPSV,106,台上,335,20170518', '長鴻營造', None, None, None), (187, 'TPDM,105,金重訴,2,20170505,7', '長鴻營造', None, None, None), (188, 'TNDV,105,訴,2131,20170426,3', '長鴻營造', None, None, None), (189, 'TPDV,105,簡上,472,20170426,2', '長鴻營造', None, None, None), (190, 'TPHV,105,上,1608,20170425,1', '長鴻營造', None, None, None), (191, 'TPDV,106,建,81,20170420,1', '長鴻營造', None, None, None), (192, 'CHDV,104,重家訴,7,20170420,1', '長鴻營造', None, None, None), (193, 'TCDV,104,國,8,20170331,1', '長鴻營造', None, None, None), (194, 'KSDV,105,建,114,20170329,2', '長鴻營造', None, None, None), (195, 'TPDV,106,建,20,20170317,1', '長鴻營造', None, None, None), (196, 'TPDV,105,訴,3614,20170315,2', '長鴻營造', None, None, None), (197, 'TPDV,105,建,235,20170313,3', '長鴻營造', None, None, None), (198, 'TPHV,105,勞上,79,20170307,1', '長鴻營造', None, None, None), (199, 'TPDV,105,訴,4293,20170224,1', '長鴻營造', None, None, None), (200, 'TPDV,106,重訴,14,20170224,2', '長鴻營造', None, None, None), (201, 'TPHV,104,建上,39,20170214,1', '長鴻營造', None, None, None), (202, 'TPDV,105,建,295,20170214,1', '長鴻營造', None, None, None), (203, 'TPDV,105,訴,4003,20170113,1', '長鴻營造', None, None, None), (204, 'TPDV,105,建,327,20161229,1', '長鴻營造', None, None, None), (205, 'TPDV,105,建,418,20161222,1', '長鴻營造', None, None, None), (206, 'TPDV,105,建,394,20161220,1', '長鴻營造', None, None, None), (207, 'TPDV,105,建,362,20161215,1', '長鴻營造', None, None, None), (208, 'TPDV,105,簡上,378,20161207,1', '長鴻營造', None, None, None), (209, 'TPDV,105,建,339,20161206,2', '長鴻營造', None, None, None), (210, 'TPDV,105,訴,2955,20161130,1', '長鴻營造', None, None, None), (211, 'KSDM,105,易,395,20161130,1', '長鴻營造', None, None, None), (212, 'TPDV,105,建,272,20161129,3', '長鴻營造', None, None, None), (213, 'TPDV,105,建,381,20161128,1', '長鴻營造', None, None, None), (214, 'PCDV,103,建,59,20161128,2', '長鴻營造', None, None, None), (215, 'TPDV,105,建,303,20161114,1', '長鴻營造', None, None, None), (216, 'TPDV,104,建,183,20161114,2', '長鴻營造', None, None, None), (217, 'TPDV,105,建,292,20161103,1', '長鴻營造', None, None, None), (218, 'TPHV,103,建上易,35,20161031,1', '長鴻營造', None, None, None), (219, 'TPDV,105,建,332,20161031,1', '長鴻營造', None, None, None), (220, 'TPDV,105,訴,3690,20161031,1', '長鴻營造', None, None, None), (221, 'TPDV,105,建,312,20161020,1', '長鴻營造', None, None, None), (222, 'TPDV,104,建,449,20161014,2', '長鴻營造', None, None, None)]\n"
     ]
    }
   ],
   "source": [
    "ret = db.execute_query(\"SELECT * FROM Searchable WHERE JSUBJECT='長鴻營造'\")\n",
    "print(ret[0])"
   ]
  },
  {
   "cell_type": "code",
   "execution_count": 20,
   "metadata": {},
   "outputs": [
    {
     "name": "stdout",
     "output_type": "stream",
     "text": [
      "(1, 'TPSV,112,台上,2737,20240530,1', '長鴻營造', None, None, None)\n"
     ]
    }
   ],
   "source": [
    "print(ret[0])"
   ]
  },
  {
   "cell_type": "code",
   "execution_count": 8,
   "metadata": {},
   "outputs": [],
   "source": [
    "# 關閉連接\n",
    "db.close_connection()"
   ]
  }
 ],
 "metadata": {
  "kernelspec": {
   "display_name": "demo-env-310",
   "language": "python",
   "name": "python3"
  },
  "language_info": {
   "codemirror_mode": {
    "name": "ipython",
    "version": 3
   },
   "file_extension": ".py",
   "mimetype": "text/x-python",
   "name": "python",
   "nbconvert_exporter": "python",
   "pygments_lexer": "ipython3",
   "version": "3.10.9"
  }
 },
 "nbformat": 4,
 "nbformat_minor": 2
}
